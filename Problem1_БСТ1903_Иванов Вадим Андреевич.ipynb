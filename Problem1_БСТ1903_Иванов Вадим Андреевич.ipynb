{
 "cells": [
  {
   "cell_type": "markdown",
   "metadata": {},
   "source": [
    "# Контрольные задачи по дисциплине СиАОД №1"
   ]
  },
  {
   "cell_type": "markdown",
   "metadata": {},
   "source": [
    "## Выполнил студент группы БСТ1903 Иванов В.А."
   ]
  },
  {
   "cell_type": "markdown",
   "metadata": {},
   "source": [
    "### Задача №1"
   ]
  },
  {
   "cell_type": "code",
   "execution_count": 11,
   "metadata": {},
   "outputs": [
    {
     "name": "stdout",
     "output_type": "stream",
     "text": [
      "5\n",
      "0\n",
      "10\n",
      "8\n"
     ]
    }
   ],
   "source": [
    "def maxPer(side):\n",
    "    \"\"\"\n",
    "\n",
    "    Parameters\n",
    "    ----------\n",
    "    side : list of ints\n",
    "    \n",
    "    Raises\n",
    "    ------\n",
    "    ValueError\n",
    "\n",
    "    Returns\n",
    "    -------\n",
    "    Max available perimeter (int) \n",
    "\n",
    "    \"\"\"\n",
    "    max = 0\n",
    "    if len(side) < 3 or len(side) > 10000:\n",
    "        raise ValueError\n",
    "    for i in side:\n",
    "        if i < 1 or i > 10**6:\n",
    "             raise ValueError\n",
    "    for a in range(len(side)-2):\n",
    "        for b in range(a+1, len(side)-1):\n",
    "            for c in range(b+1, len(side)):\n",
    "                p = (side[a] + side[b] + side[c]) / 2\n",
    "                S = p * (p - side[a]) * (p - side[b]) * (p - side[c])\n",
    "                if S <= 0:\n",
    "                    continue\n",
    "                P = side[a] + side[b] + side[c]\n",
    "                if P > max:\n",
    "                    max = P\n",
    "    return max\n",
    "\n",
    "\n",
    "print(maxPer([2,1,2]))\n",
    "print(maxPer([1,2,1]))\n",
    "print(maxPer([3,2,3,4]))\n",
    "print(maxPer([3,6,2,3]))"
   ]
  },
  {
   "cell_type": "markdown",
   "metadata": {},
   "source": [
    "### Задача №2"
   ]
  },
  {
   "cell_type": "code",
   "execution_count": 20,
   "metadata": {},
   "outputs": [
    {
     "name": "stdout",
     "output_type": "stream",
     "text": [
      "210\n",
      "9534330\n",
      "1\n",
      "10\n"
     ]
    }
   ],
   "source": [
    "def maxNum(nums):\n",
    "    \"\"\"\n",
    "\n",
    "    Parameters\n",
    "    ----------\n",
    "    nums : list of ints\n",
    "\n",
    "    Raises\n",
    "    ------\n",
    "    ValueError\n",
    "\n",
    "    Returns\n",
    "    -------\n",
    "    Max available num connected by nums in list (str)\n",
    "\n",
    "    \"\"\"\n",
    "    if len(nums) < 1 or len(nums) > 100:\n",
    "        raise ValueError\n",
    "    for i in nums:\n",
    "        if i < 1 or i > 10**9:\n",
    "             raise ValueError\n",
    "    def dualComp(a, b):\n",
    "        ab = int(str(a) + str(b))\n",
    "        ba = int(str(b) + str(a))\n",
    "        if ab > ba:\n",
    "            return True\n",
    "        else:\n",
    "            return False\n",
    "    \n",
    "    def sortArr(arr):\n",
    "        for i in range(len(arr) - 1):\n",
    "            max = i\n",
    "            for j in range(i + 1, len(arr)):\n",
    "                if not dualComp(arr[max], arr[j]):\n",
    "                    max = j\n",
    "            arr[i], arr[max] = arr[max], arr[i]\n",
    "    \n",
    "    sortArr(nums)\n",
    "    return ''.join(str(e) for e in nums)\n",
    "\n",
    "\n",
    "print(maxNum([10,2]))\n",
    "print(maxNum([3,30,34,5,9]))\n",
    "print(maxNum([1]))\n",
    "print(maxNum([10]))"
   ]
  },
  {
   "cell_type": "markdown",
   "metadata": {},
   "source": [
    "### Задача №3"
   ]
  },
  {
   "cell_type": "code",
   "execution_count": 12,
   "metadata": {},
   "outputs": [
    {
     "name": "stdout",
     "output_type": "stream",
     "text": [
      "[[1, 1, 1, 1], [1, 2, 2, 2], [1, 2, 3, 3]]\n",
      "[[5, 17, 4, 1, 52, 7], [11, 11, 25, 45, 8, 69], [14, 23, 25, 44, 58, 15], [22, 27, 31, 36, 50, 66], [84, 28, 75, 33, 55, 68]]\n"
     ]
    }
   ],
   "source": [
    "def sortDiagMatrix(matrix):\n",
    "    \"\"\"\n",
    "    \n",
    "    Parameters\n",
    "    ----------\n",
    "    matrix : two-dimensional list of ints\n",
    "\n",
    "    Raises\n",
    "    ------\n",
    "    ValueError\n",
    "\n",
    "    Returns \n",
    "    -------\n",
    "    Matrix  with sorted diagonals (list)\n",
    "\n",
    "    \"\"\"\n",
    "    \n",
    "    def sortDiag(matrix, i, s3 = 0, s4 = 0):\n",
    "        \"\"\"\n",
    "        \n",
    "        Parameters\n",
    "        ----------\n",
    "        matrix : two-dimensional list of ints\n",
    "        i : int\n",
    "\n",
    "        Returns\n",
    "        -------\n",
    "        None.\n",
    "\n",
    "        \"\"\"\n",
    "        diag = []\n",
    "        s1 = s3\n",
    "        s2 = s4\n",
    "        while True:\n",
    "            try:\n",
    "                diag.append(matrix[s1][s2])\n",
    "                s1 += 1\n",
    "                s2 += 1\n",
    "            except IndexError:\n",
    "                break\n",
    "        diag.sort()\n",
    "        s1 = s3\n",
    "        s2 = s4\n",
    "        for j in range(len(diag)):\n",
    "            matrix[s1][s2] = diag[j]\n",
    "            s1 += 1\n",
    "            s2 += 1\n",
    "            \n",
    "            \n",
    "    if (len(matrix) < 1 or len(matrix) > 100) or (len(matrix[0]) < 1 or len(matrix[0]) > 100):\n",
    "        raise ValueError\n",
    "    for i in matrix:\n",
    "        for j in i:\n",
    "            if j < 1 or j > 100:\n",
    "                 raise ValueError\n",
    "    for i in range(len(matrix)):\n",
    "        sortDiag(matrix, i, s3 = i)\n",
    "    for i in range(1, len(matrix[0])):\n",
    "        sortDiag(matrix, i, s4 = i)\n",
    "    return matrix\n",
    "\n",
    "\n",
    "print(sortDiagMatrix([[3, 3, 1, 1], [2, 2, 1, 2], [1, 1, 1, 2]]))\n",
    "print(sortDiagMatrix([[11, 25, 66, 1, 69, 7], [23, 55, 17, 45, 15, 52], [75, 31, 36, 44, 58, 8], [22, 27, 33, 25, 68, 4], [84, 28, 14, 11, 5, 50]]))"
   ]
  },
  {
   "cell_type": "code",
   "execution_count": null,
   "metadata": {},
   "outputs": [],
   "source": []
  }
 ],
 "metadata": {
  "kernelspec": {
   "display_name": "Python 3",
   "language": "python",
   "name": "python3"
  },
  "language_info": {
   "codemirror_mode": {
    "name": "ipython",
    "version": 3
   },
   "file_extension": ".py",
   "mimetype": "text/x-python",
   "name": "python",
   "nbconvert_exporter": "python",
   "pygments_lexer": "ipython3",
   "version": "3.8.5"
  }
 },
 "nbformat": 4,
 "nbformat_minor": 4
}
