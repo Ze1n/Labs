{
 "cells": [
  {
   "cell_type": "markdown",
   "metadata": {},
   "source": [
    "# Лабораторная работа №2\n",
    "## Выполнил студент группы БСТ1903 Иванов В.А."
   ]
  },
  {
   "cell_type": "markdown",
   "metadata": {},
   "source": [
    "### Задание №1"
   ]
  },
  {
   "cell_type": "markdown",
   "metadata": {},
   "source": [
    "#### Бинарный поиск"
   ]
  },
  {
   "cell_type": "code",
   "execution_count": 43,
   "metadata": {},
   "outputs": [
    {
     "name": "stdout",
     "output_type": "stream",
     "text": [
      "Element is present at index 3\n"
     ]
    }
   ],
   "source": [
    "def binarySearch(arr, l, r, x):\n",
    "    while l <= r:\n",
    "        mid = l + (r - l) // 2;\n",
    "        if arr[mid] == x:\n",
    "            return mid\n",
    "        elif arr[mid] < x:\n",
    "            l = mid + 1\n",
    "        else:\n",
    "            r = mid - 1\n",
    "    return -1\n",
    "\n",
    "arr = [2, 3, 4, 10, 40]\n",
    "x = 10\n",
    "result = binarySearch(arr, 0, len(arr)-1, x)\n",
    "if result != -1:\n",
    "    print (\"Element is present at index \" + str(result))\n",
    "else:\n",
    "    print (\"Element is not present in array\")"
   ]
  },
  {
   "cell_type": "markdown",
   "metadata": {},
   "source": [
    "#### Поиск Фибоначчи"
   ]
  },
  {
   "cell_type": "code",
   "execution_count": 44,
   "metadata": {},
   "outputs": [
    {
     "name": "stdout",
     "output_type": "stream",
     "text": [
      "Element is present at index 9\n"
     ]
    }
   ],
   "source": [
    "from bisect import bisect_left\n",
    "\n",
    "def fibMonaccianSearch(arr, x, n):\n",
    "    fibMMm2 = 0  \n",
    "    fibMMm1 = 1  \n",
    "    fibM = fibMMm2 + fibMMm1  \n",
    "    while (fibM < n):\n",
    "        fibMMm2 = fibMMm1\n",
    "        fibMMm1 = fibM\n",
    "        fibM = fibMMm2 + fibMMm1\n",
    "    offset = -1\n",
    "    while (fibM > 1):\n",
    "        i = min(offset+fibMMm2, n-1)\n",
    "        if (arr[i] < x):\n",
    "            fibM = fibMMm1\n",
    "            fibMMm1 = fibMMm2\n",
    "            fibMMm2 = fibM - fibMMm1\n",
    "            offset = i\n",
    "        elif (arr[i] > x):\n",
    "            fibM = fibMMm2\n",
    "            fibMMm1 = fibMMm1 - fibMMm2\n",
    "            fibMMm2 = fibM - fibMMm1\n",
    "        else:\n",
    "            return i\n",
    "    if(fibMMm1 and arr[n-1] == x):\n",
    "        return n-1\n",
    "    return -1\n",
    "\n",
    "arr = [10, 22, 35, 40, 45, 50,\n",
    "       80, 82, 85, 90, 100,235]\n",
    "n = len(arr)\n",
    "x = 90\n",
    "ind = fibMonaccianSearch(arr, x, n)\n",
    "if ind>=0:\n",
    "  print(\"Element is present at index \" + str(ind))\n",
    "else:\n",
    "  print(\"Element is not present in array\");"
   ]
  },
  {
   "cell_type": "markdown",
   "metadata": {},
   "source": [
    "#### Интерполяционный поиск"
   ]
  },
  {
   "cell_type": "code",
   "execution_count": 45,
   "metadata": {},
   "outputs": [
    {
     "name": "stdout",
     "output_type": "stream",
     "text": [
      "Element is present at index 4\n"
     ]
    }
   ],
   "source": [
    "def interpolationSearch(arr, lo, hi, x):\n",
    "    if (lo <= hi and x >= arr[lo] and x <= arr[hi]):\n",
    "        pos = lo + ((hi - lo) // (arr[hi] - arr[lo]) * (x - arr[lo]))\n",
    "        if arr[pos] == x:\n",
    "            return pos\n",
    "        if arr[pos] < x:\n",
    "            return interpolationSearch(arr, pos + 1, hi, x)\n",
    "        if arr[pos] > x:\n",
    "            return interpolationSearch(arr, lo, pos - 1, x)\n",
    "    return -1\n",
    " \n",
    "arr = [10, 12, 13, 16, 18, 19, 20, 21, 22, 23, 24, 33, 35, 42, 47]\n",
    "n = len(arr)\n",
    "x = 18\n",
    "index = interpolationSearch(arr, 0, n - 1, x)\n",
    "if index != -1:\n",
    "    print(\"Element is present at index \" + str(index))\n",
    "else:\n",
    "    print(\"Element is not present in array\")"
   ]
  },
  {
   "cell_type": "markdown",
   "metadata": {},
   "source": [
    "#### Бинарное дерево"
   ]
  },
  {
   "cell_type": "code",
   "execution_count": 47,
   "metadata": {},
   "outputs": [
    {
     "name": "stdout",
     "output_type": "stream",
     "text": [
      "2\n",
      "3\n",
      "4\n",
      "10\n",
      "40\n",
      "Элемент найден\n",
      "search <__main__.TreeNode object at 0x000002448D72F2E0>\n",
      "Элемент найден\n",
      "2\n",
      "4\n",
      "10\n",
      "40\n",
      "None\n",
      "Элемент не найден\n",
      "None\n"
     ]
    }
   ],
   "source": [
    "class TreeNode:\n",
    "    def __init__(self, value):\n",
    "        self.value = value\n",
    "        self.right = None\n",
    "        self.left = None\n",
    "        \n",
    "    def addTo(self, mas):\n",
    "        if mas < self.value:\n",
    "            if self.left is None:\n",
    "                self.left = TreeNode(mas)\n",
    "            else:\n",
    "                self.left.addTo( mas)\n",
    "        else:\n",
    "            if self.right is None:\n",
    "                self.right = TreeNode(mas)\n",
    "            else:\n",
    "                self.right.addTo(mas) \n",
    "                \n",
    "    def pre_order(self, nl):\n",
    "        if nl and self and self.value is not None:\n",
    "            if nl > self.value and self.right:\n",
    "                self = self.right.pre_order(nl)\n",
    "            elif nl < self.value and self.left:\n",
    "                self = self.left.pre_order(nl)\n",
    "            elif(nl == self.value):\n",
    "                print(\"Элемент найден\")\n",
    "                return self\n",
    "            else:\n",
    "                print(\"Элемент не найден\")\n",
    "                return None\n",
    "        else:\n",
    "            print(\"Элемент не найден\")\n",
    "            return None\n",
    "        return self\n",
    "    \n",
    "    def deleted(self):\n",
    "        if self.right is not None:\n",
    "            self.value = self.right.value\n",
    "            self.right.deleted()\n",
    "        elif self.left is not None:\n",
    "            self.value = self.left.value\n",
    "            self.left.deleted()\n",
    "        elif (self.left is None) and (self.right is None):\n",
    "            self.value = None\n",
    "    \n",
    "    def delit(self, i):\n",
    "        self.pre_order(i).deleted()\n",
    "        \n",
    "    def pr(self):\n",
    "        if self.left:\n",
    "            self.left.pr()\n",
    "        print(self.value)\n",
    "        if self.right:\n",
    "            self.right.pr()\n",
    "            \n",
    "mass = [2, 3, 4, 10, 40]\n",
    "tree = TreeNode(mass[0])\n",
    "for i in range(1, len(mass)):\n",
    "    tree.addTo(mass[i])\n",
    "tree.pr()\n",
    "print(\"search\", tree.pre_order(3))\n",
    "tree.delit(3)\n",
    "tree.pr()\n",
    "print(tree.pre_order(3))"
   ]
  },
  {
   "cell_type": "markdown",
   "metadata": {},
   "source": [
    "### Задание №2"
   ]
  },
  {
   "cell_type": "markdown",
   "metadata": {},
   "source": [
    "#### Простое рехэширование "
   ]
  },
  {
   "cell_type": "code",
   "execution_count": 48,
   "metadata": {},
   "outputs": [],
   "source": [
    "class HashMap:\n",
    "    def __init__(self):\n",
    "        self.size = 0\n",
    "        self.data = []\n",
    "        self._resize()\n",
    "    \n",
    "    def _hash(self, key, i):\n",
    "        return (hash(key) + i) % len(self.data)\n",
    "        \n",
    "    def _find(self, key):\n",
    "        i = 0;\n",
    "        index = self._hash(key, i);\n",
    "        while self.data[index] is not None and self.data[index][0] != key:\n",
    "            i += 1\n",
    "            index = self._hash(key, i);\n",
    "        return index;\n",
    "    \n",
    "    def _resize(self):\n",
    "        temp = self.data\n",
    "        self.data = [None] * (2*len(self.data) + 1)\n",
    "        for item in temp:\n",
    "            if item is not None:\n",
    "                self.data[self._find(item[0])] = item\n",
    "    \n",
    "    def __setitem__(self, key, value):\n",
    "        if self.size + 1 > len(self.data) // 2:\n",
    "            self._resize()\n",
    "        index = self._find(key)\n",
    "        if self.data[index] is None:  \n",
    "            self.size += 1\n",
    "        self.data[index] = (key, value)\n",
    "    \n",
    "    def __getitem__(self, key):\n",
    "        index = self._find(key)\n",
    "        if self.data[index] is not None:\n",
    "            return self.data[index][1]\n",
    "        raise KeyError()"
   ]
  },
  {
   "cell_type": "markdown",
   "metadata": {},
   "source": [
    "#### Рехэширование с помощью псевдослучайных чисел"
   ]
  },
  {
   "cell_type": "code",
   "execution_count": 49,
   "metadata": {},
   "outputs": [],
   "source": [
    "class RandomHashMap(HashMap):\n",
    "    _rand_c = [5323]\n",
    "    \n",
    "    def _rand(self, i):\n",
    "        if len(self._rand_c) - 1 < i:\n",
    "            self._rand_c.append(self._rand(i - 1))\n",
    "        return (123456789 * self._rand_c[i] + 987654321) % 65546\n",
    "        \n",
    "    def _hash(self, key, i):\n",
    "        return (hash(key) + self._rand(i)) % len(self.data)"
   ]
  },
  {
   "cell_type": "markdown",
   "metadata": {},
   "source": [
    "#### Метод цепочек"
   ]
  },
  {
   "cell_type": "code",
   "execution_count": 50,
   "metadata": {},
   "outputs": [],
   "source": [
    "class ChainMap:\n",
    "    def __init__(self):\n",
    "        self.size = 0\n",
    "        self.data = []\n",
    "        self._resize()\n",
    "    \n",
    "    def _hash(self, key):\n",
    "        return hash(key) % len(self.data)\n",
    "    \n",
    "    def _insert(self, index, item):\n",
    "        if self.data[index] is None:\n",
    "            self.data[index] = [item]\n",
    "            return True\n",
    "        else:\n",
    "            for i, item_ in enumerate(self.data[index]):\n",
    "                if item_[0] == item[0]:\n",
    "                    self.data[index][i] = item\n",
    "                    return False\n",
    "            self.data[index].append(item)\n",
    "            return True\n",
    "    \n",
    "    def _resize(self):\n",
    "        temp = self.data\n",
    "        self.data = [None] * (2*len(self.data) + 1)\n",
    "        for bucket in temp:\n",
    "            if bucket is not None:\n",
    "                for key, value in bucket:\n",
    "                    self._insert(self._hash(key), (key, value))\n",
    "    \n",
    "    def __setitem__(self, key, value):\n",
    "        if self.size + 1 > len(self.data) // 1.5:\n",
    "            self._resize()\n",
    "        if self._insert(self._hash(key), (key, value)):  \n",
    "            self.size += 1\n",
    "    \n",
    "    def __getitem__(self, key):\n",
    "        index = self._hash(key)\n",
    "        if self.data[index] is not None:\n",
    "            for key_, value in self.data[index]:\n",
    "                if key_ == key:\n",
    "                    return value\n",
    "        raise KeyError()"
   ]
  },
  {
   "cell_type": "markdown",
   "metadata": {},
   "source": [
    "### Задание №3"
   ]
  },
  {
   "cell_type": "code",
   "execution_count": 2,
   "metadata": {},
   "outputs": [
    {
     "name": "stdout",
     "output_type": "stream",
     "text": [
      "7\n",
      ". Ф . . . . .\n",
      ". . . Ф . . .\n",
      ". . . . . Ф .\n",
      "Ф . . . . . .\n",
      ". . Ф . . . .\n",
      ". . . . Ф . .\n",
      ". . . . . . Ф\n",
      "\n",
      "\n",
      ". . . . . . Ф\n",
      ". . . . Ф . .\n",
      ". . Ф . . . .\n",
      "Ф . . . . . .\n",
      ". . . . . Ф .\n",
      ". . . Ф . . .\n",
      ". Ф . . . . .\n"
     ]
    }
   ],
   "source": [
    "def Queens(n):\n",
    "    if n % 6 == 2:\n",
    "        even = list(range(1, n, 2))\n",
    "        odd = list(range(2, n, 2))\n",
    "        odd[1] = 0\n",
    "        odd.append(4)\n",
    "    elif n % 6 == 3:\n",
    "        even = list(range(3, n, 2))\n",
    "        odd = list(range(4, n, 2))\n",
    "        even.append(1)\n",
    "        odd.append(0)\n",
    "        odd.append(2)\n",
    "    else:\n",
    "        even = list(range(1, n, 2))\n",
    "        odd = list(range(0, n, 2))\n",
    "    rez = even + odd\n",
    "    row = [\".\"] * n\n",
    "    for i in range(n):\n",
    "        j = rez[i]\n",
    "        row[j] = \"Ф\"\n",
    "        print(* row)\n",
    "        row[j] = \".\"\n",
    "    i = n - 1\n",
    "    print(\"\\n\")\n",
    "    while i >= 0:\n",
    "        j = rez[i]\n",
    "        row[j] = \"Ф\"\n",
    "        print(* row)\n",
    "        row[j] = \".\"\n",
    "        i -= 1\n",
    "\n",
    "n = int(input())\n",
    "Queens(n)"
   ]
  },
  {
   "cell_type": "code",
   "execution_count": null,
   "metadata": {},
   "outputs": [],
   "source": []
  }
 ],
 "metadata": {
  "kernelspec": {
   "display_name": "Python 3",
   "language": "python",
   "name": "python3"
  },
  "language_info": {
   "codemirror_mode": {
    "name": "ipython",
    "version": 3
   },
   "file_extension": ".py",
   "mimetype": "text/x-python",
   "name": "python",
   "nbconvert_exporter": "python",
   "pygments_lexer": "ipython3",
   "version": "3.8.5"
  }
 },
 "nbformat": 4,
 "nbformat_minor": 4
}
{
   "cell_type": "markdown",
   "metadata": {},
   "source": [
    "### Вывод"
   ]
  },
  {
   "cell_type": "markdown",
   "metadata": {},
   "source": [
    "#### В ходе лабораторной работы мы изучили алгоритмы поиска элемента в массиве и изучили методы рехэширования"
   ]
  }
